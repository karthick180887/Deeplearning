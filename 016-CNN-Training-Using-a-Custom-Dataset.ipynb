{
 "cells": [
  {
   "cell_type": "code",
   "execution_count": 3,
   "metadata": {
    "id": "qMET0upyCh3R"
   },
   "outputs": [],
   "source": [
    "import torch\n",
    "import os\n",
    "from PIL import Image\n",
    "from torchvision import transforms\n",
    "from torch.utils.data import Dataset, DataLoader"
   ]
  },
  {
   "cell_type": "code",
   "execution_count": 4,
   "metadata": {
    "colab": {
     "base_uri": "https://localhost:8080/"
    },
    "executionInfo": {
     "elapsed": 503,
     "status": "ok",
     "timestamp": 1739379492080,
     "user": {
      "displayName": "nimoy",
      "userId": "12145814232676261569"
     },
     "user_tz": -330
    },
    "id": "5ksp4jNEYVsK",
    "outputId": "81626960-e43b-4fa9-a60a-c26e96eba2a4"
   },
   "outputs": [
    {
     "name": "stdout",
     "output_type": "stream",
     "text": [
      "0 Cat\n",
      "1 Dog\n",
      "2 person\n"
     ]
    }
   ],
   "source": [
    "image_dir = 'C:\\\\Users\\\\Karthick Selvam\\\\Downloads\\\\PYTORCH\\\\contents\\\\Classification_dataset_v3\\\\images\\\\train'\n",
    "for label, class_dir in enumerate(os.listdir(image_dir)):\n",
    "  print(label, class_dir)"
   ]
  },
  {
   "cell_type": "code",
   "execution_count": 5,
   "metadata": {
    "executionInfo": {
     "elapsed": 419,
     "status": "ok",
     "timestamp": 1739380121160,
     "user": {
      "displayName": "nimoy",
      "userId": "12145814232676261569"
     },
     "user_tz": -330
    },
    "id": "mAffma6fXFMm"
   },
   "outputs": [],
   "source": [
    "class ImageDataset(Dataset):\n",
    "  def __init__(self, image_dir, transform=None):\n",
    "    self.image_dir = image_dir\n",
    "    self.image_paths = []\n",
    "    self.labels = []\n",
    "    self.class_name = {}\n",
    "    self.transform = transform\n",
    "\n",
    "    for label, class_dir in enumerate(os.listdir(image_dir)):\n",
    "      self.class_name[label] = class_dir\n",
    "      class_path = os.path.join(image_dir, class_dir)\n",
    "      for img_name in os.listdir(class_path):\n",
    "        self.image_paths.append(os.path.join(class_path, img_name))\n",
    "        self.labels.append(label)\n",
    "\n",
    "  def __len__(self):\n",
    "    return len(self.image_paths)\n",
    "\n",
    "  def __getitem__(self, idx):\n",
    "    img_path = self.image_paths[idx]\n",
    "    image = Image.open(img_path).convert(\"RGB\")\n",
    "    label = self.labels[idx]\n",
    "\n",
    "    if self.transform:\n",
    "      image = self.transform(image)\n",
    "\n",
    "    return image, label"
   ]
  },
  {
   "cell_type": "code",
   "execution_count": 6,
   "metadata": {
    "executionInfo": {
     "elapsed": 416,
     "status": "ok",
     "timestamp": 1739380144570,
     "user": {
      "displayName": "nimoy",
      "userId": "12145814232676261569"
     },
     "user_tz": -330
    },
    "id": "TYPt7RTraFe3"
   },
   "outputs": [],
   "source": [
    "transform = transforms.Compose([\n",
    "    transforms.Resize((128,128)),\n",
    "    transforms.ToTensor(),\n",
    "    transforms.Normalize(mean=[0.5, 0.5, 0.5], std=[0.5, 0.5, 0.5])]\n",
    ")\n",
    "# mean=[0.485, 0.456, 0.406], std=[0.229, 0.224, 0.225]"
   ]
  },
  {
   "cell_type": "code",
   "execution_count": 7,
   "metadata": {
    "executionInfo": {
     "elapsed": 441,
     "status": "ok",
     "timestamp": 1739380168748,
     "user": {
      "displayName": "nimoy",
      "userId": "12145814232676261569"
     },
     "user_tz": -330
    },
    "id": "f7LkWtk7aUba"
   },
   "outputs": [],
   "source": [
    "train_image_dir = 'C:\\\\Users\\\\Karthick Selvam\\\\Downloads\\\\PYTORCH\\\\contents\\\\Classification_dataset_v3\\\\images\\\\train'\n",
    "test_image_dir = 'C:\\\\Users\\\\Karthick Selvam\\\\Downloads\\\\PYTORCH\\\\contents\\\\Classification_dataset_v3\\\\images\\\\test'\n",
    "\n",
    "train_image_dataset = ImageDataset(image_dir=train_image_dir, transform=transform)\n",
    "test_image_dataset = ImageDataset(image_dir=test_image_dir, transform=transform)"
   ]
  },
  {
   "cell_type": "code",
   "execution_count": 8,
   "metadata": {
    "id": "aNkgpRTNbgXS"
   },
   "outputs": [],
   "source": [
    "train_image_loader = DataLoader(dataset=train_image_dataset, batch_size=32, shuffle=True)\n",
    "test_image_loader = DataLoader(dataset=test_image_dataset, batch_size=32, shuffle=True)"
   ]
  },
  {
   "cell_type": "code",
   "execution_count": 9,
   "metadata": {
    "colab": {
     "base_uri": "https://localhost:8080/"
    },
    "executionInfo": {
     "elapsed": 834,
     "status": "ok",
     "timestamp": 1739380222211,
     "user": {
      "displayName": "nimoy",
      "userId": "12145814232676261569"
     },
     "user_tz": -330
    },
    "id": "wD7SGRdDbwPz",
    "outputId": "529e8f2f-2a31-4fec-94e4-bf11b3d578e3"
   },
   "outputs": [
    {
     "name": "stdout",
     "output_type": "stream",
     "text": [
      "torch.Size([32, 3, 128, 128]) torch.Size([32])\n"
     ]
    }
   ],
   "source": [
    "for images,labels in train_image_loader:\n",
    "  print(images.shape, labels.shape)\n",
    "  break"
   ]
  },
  {
   "cell_type": "code",
   "execution_count": 10,
   "metadata": {
    "executionInfo": {
     "elapsed": 429,
     "status": "ok",
     "timestamp": 1739380244646,
     "user": {
      "displayName": "nimoy",
      "userId": "12145814232676261569"
     },
     "user_tz": -330
    },
    "id": "-uPDwZ_ub7tj"
   },
   "outputs": [],
   "source": [
    "import matplotlib.pyplot as plt\n",
    "import numpy as np"
   ]
  },
  {
   "cell_type": "code",
   "execution_count": 11,
   "metadata": {
    "colab": {
     "base_uri": "https://localhost:8080/"
    },
    "executionInfo": {
     "elapsed": 453,
     "status": "ok",
     "timestamp": 1739380254724,
     "user": {
      "displayName": "nimoy",
      "userId": "12145814232676261569"
     },
     "user_tz": -330
    },
    "id": "xKXJg4bQcPFc",
    "outputId": "7639587f-5515-482d-ca71-2587f2108d29"
   },
   "outputs": [
    {
     "name": "stdout",
     "output_type": "stream",
     "text": [
      "{0: 'Cat', 1: 'Dog', 2: 'person'}\n",
      "{0: 'Cat', 1: 'Dog', 2: 'person'}\n"
     ]
    }
   ],
   "source": [
    "print(train_image_dataset.class_name)\n",
    "print(test_image_dataset.class_name)"
   ]
  },
  {
   "cell_type": "code",
   "execution_count": 12,
   "metadata": {
    "colab": {
     "base_uri": "https://localhost:8080/",
     "height": 558
    },
    "executionInfo": {
     "elapsed": 1091,
     "status": "ok",
     "timestamp": 1739380361393,
     "user": {
      "displayName": "nimoy",
      "userId": "12145814232676261569"
     },
     "user_tz": -330
    },
    "id": "0j--8kK1cZgF",
    "outputId": "bcbae741-6b78-4b4e-b977-4b1940ab0ded"
   },
   "outputs": [
    {
     "name": "stderr",
     "output_type": "stream",
     "text": [
      "Clipping input data to the valid range for imshow with RGB data ([0..1] for floats or [0..255] for integers). Got range [-0.96862745..1.0].\n"
     ]
    },
    {
     "name": "stdout",
     "output_type": "stream",
     "text": [
      "torch.Size([32, 3, 128, 128]) torch.Size([32])\n",
      "(3, 128, 128)\n",
      "person\n",
      "(128, 128, 3)\n",
      "2\n"
     ]
    },
    {
     "data": {
      "image/png": "[encoded data removed]",
      "text/plain": [
       "<Figure size 640x480 with 1 Axes>"
      ]
     },
     "metadata": {},
     "output_type": "display_data"
    }
   ],
   "source": [
    "for images, labels in train_image_loader:\n",
    "  print(images.shape, labels.shape)\n",
    "  img = images[0].numpy()\n",
    "  print(img.shape)\n",
    "  label = labels[0].item()\n",
    "  print(train_image_dataset.class_name[label])\n",
    "  img = np.transpose(img, (1,2,0))\n",
    "  print(img.shape)\n",
    "  print(label)\n",
    "  plt.imshow(img)\n",
    "  break"
   ]
  },
  {
   "cell_type": "markdown",
   "metadata": {
    "id": "Me57QfiTyMsE"
   },
   "source": [
    "# Custom CNN Architecture"
   ]
  },
  {
   "cell_type": "code",
   "execution_count": 13,
   "metadata": {
    "executionInfo": {
     "elapsed": 411,
     "status": "ok",
     "timestamp": 1739381054269,
     "user": {
      "displayName": "nimoy",
      "userId": "12145814232676261569"
     },
     "user_tz": -330
    },
    "id": "CUZVvVVvMCwL"
   },
   "outputs": [],
   "source": [
    "import torch.nn as nn\n",
    "import torch.optim as optim"
   ]
  },
  {
   "cell_type": "code",
   "execution_count": null,
   "metadata": {
    "executionInfo": {
     "elapsed": 531,
     "status": "ok",
     "timestamp": 1739382380634,
     "user": {
      "displayName": "nimoy",
      "userId": "12145814232676261569"
     },
     "user_tz": -330
    },
    "id": "zoy4eQnTMJOn"
   },
   "outputs": [],
   "source": [
    "class CustomCnnModel(nn.Module):\n",
    "  def __init__(self,input_dim, num_classes):\n",
    "    super(CustomCnnModel, self).__init__()\n",
    "    self.input_dim = input_dim\n",
    "    self.num_classes = num_classes\n",
    "\n",
    "    self.conv_layers = nn.Sequential(\n",
    "        # C1\n",
    "        nn.Conv2d(3, 32, kernel_size=3, stride=1, padding=1),\n",
    "        # 128x128x3 --> 3x3x3x32 --> wxhx32\n",
    "        nn.BatchNorm2d(32),\n",
    "        nn.ReLU(),\n",
    "        nn.MaxPool2d(kernel_size=2, stride=2),\n",
    "\n",
    "        # C2\n",
    "        nn.Conv2d(32, 64, kernel_size=3, stride=1, padding=1),\n",
    "        nn.BatchNorm2d(64),\n",
    "        nn.ReLU(),\n",
    "        nn.MaxPool2d(kernel_size=2, stride=2),\n",
    "\n",
    "        # C3\n",
    "        nn.Conv2d(64, 128, kernel_size=3, stride=1, padding=1),\n",
    "        nn.BatchNorm2d(128),\n",
    "        nn.ReLU(),\n",
    "        nn.MaxPool2d(kernel_size=2, stride=2),\n",
    "\n",
    "        # C4\n",
    "        nn.Conv2d(128, 256, kernel_size=3, stride=1, padding=1),\n",
    "        nn.BatchNorm2d(256),\n",
    "        nn.ReLU(),\n",
    "        nn.MaxPool2d(kernel_size=2, stride=2)\n",
    "    )\n",
    "\n",
    "    self._to_linear = None\n",
    "    self._get_conv_output(self.input_dim)\n",
    "\n",
    "    self.fc_layers = nn.Sequential(\n",
    "        nn.Linear(self._to_linear, 512),\n",
    "        nn.ReLU(),\n",
    "        # nn.Dropout(0.2)\n",
    "        nn.Linear(512, 128),\n",
    "        nn.ReLU(),\n",
    "        nn.Linear(128, self.num_classes),\n",
    "    )\n",
    "\n",
    "    # 256 x 12 x 12\n",
    "\n",
    "  def _get_conv_output(self, input_dim=128):\n",
    "    with torch.no_grad():\n",
    "      dummy_input = torch.zeros(1,3, input_dim, input_dim)\n",
    "      output = self.conv_layers(dummy_input)\n",
    "      self._to_linear = output.view(1, -1).size(1)\n",
    "\n",
    "  def forward(self,x):\n",
    "    x = self.conv_layers(x)\n",
    "    x = x.view(x.size(0), -1)\n",
    "    x = self.fc_layers(x)\n",
    "    return x"
   ]
  },
  {
   "cell_type": "code",
   "execution_count": 15,
   "metadata": {
    "executionInfo": {
     "elapsed": 390,
     "status": "ok",
     "timestamp": 1739382501444,
     "user": {
      "displayName": "nimoy",
      "userId": "12145814232676261569"
     },
     "user_tz": -330
    },
    "id": "gwe_Q13vRNOB"
   },
   "outputs": [],
   "source": [
    "# Initialize Model\n",
    "device = torch.device('cuda' if torch.cuda.is_available() else 'cpu')\n",
    "model = CustomCnnModel(input_dim=128, num_classes=3).to(device)"
   ]
  },
  {
   "cell_type": "code",
   "execution_count": 16,
   "metadata": {
    "colab": {
     "base_uri": "https://localhost:8080/"
    },
    "executionInfo": {
     "elapsed": 413,
     "status": "ok",
     "timestamp": 1739382512219,
     "user": {
      "displayName": "nimoy",
      "userId": "12145814232676261569"
     },
     "user_tz": -330
    },
    "id": "Dc6vauq9RqvK",
    "outputId": "e24d1c34-e48b-4f26-bceb-692e731dd7a7"
   },
   "outputs": [
    {
     "name": "stdout",
     "output_type": "stream",
     "text": [
      "CustomCnnModel(\n",
      "  (conv_layers): Sequential(\n",
      "    (0): Conv2d(3, 32, kernel_size=(3, 3), stride=(1, 1), padding=(1, 1))\n",
      "    (1): BatchNorm2d(32, eps=1e-05, momentum=0.1, affine=True, track_running_stats=True)\n",
      "    (2): ReLU()\n",
      "    (3): MaxPool2d(kernel_size=2, stride=2, padding=0, dilation=1, ceil_mode=False)\n",
      "    (4): Conv2d(32, 64, kernel_size=(3, 3), stride=(1, 1), padding=(1, 1))\n",
      "    (5): BatchNorm2d(64, eps=1e-05, momentum=0.1, affine=True, track_running_stats=True)\n",
      "    (6): ReLU()\n",
      "    (7): MaxPool2d(kernel_size=2, stride=2, padding=0, dilation=1, ceil_mode=False)\n",
      "    (8): Conv2d(64, 128, kernel_size=(3, 3), stride=(1, 1), padding=(1, 1))\n",
      "    (9): BatchNorm2d(128, eps=1e-05, momentum=0.1, affine=True, track_running_stats=True)\n",
      "    (10): ReLU()\n",
      "    (11): MaxPool2d(kernel_size=2, stride=2, padding=0, dilation=1, ceil_mode=False)\n",
      "    (12): Conv2d(128, 256, kernel_size=(3, 3), stride=(1, 1), padding=(1, 1))\n",
      "    (13): BatchNorm2d(256, eps=1e-05, momentum=0.1, affine=True, track_running_stats=True)\n",
      "    (14): ReLU()\n",
      "    (15): MaxPool2d(kernel_size=2, stride=2, padding=0, dilation=1, ceil_mode=False)\n",
      "  )\n",
      "  (fc_layers): Sequential(\n",
      "    (0): Linear(in_features=16384, out_features=512, bias=True)\n",
      "    (1): ReLU()\n",
      "    (2): Linear(in_features=512, out_features=128, bias=True)\n",
      "    (3): ReLU()\n",
      "    (4): Linear(in_features=128, out_features=3, bias=True)\n",
      "  )\n",
      ")\n"
     ]
    }
   ],
   "source": [
    "print(model)"
   ]
  },
  {
   "cell_type": "code",
   "execution_count": 17,
   "metadata": {
    "executionInfo": {
     "elapsed": 400,
     "status": "ok",
     "timestamp": 1739382614348,
     "user": {
      "displayName": "nimoy",
      "userId": "12145814232676261569"
     },
     "user_tz": -330
    },
    "id": "fhur_n7-RtZK"
   },
   "outputs": [],
   "source": [
    "criterion = nn.CrossEntropyLoss()\n",
    "optimizer = optim.Adam(model.parameters(),lr=0.001)"
   ]
  },
  {
   "cell_type": "code",
   "execution_count": 18,
   "metadata": {
    "id": "ADKqBkCVSm4G"
   },
   "outputs": [],
   "source": [
    "# 100 epoch\n",
    "\n",
    "# 1000\n",
    "# 10 batch size\n",
    "# 100\n",
    "\n",
    "# 1 epoch --> 100 iteration\n",
    "# 2 epoch --> 100 iteration"
   ]
  },
  {
   "cell_type": "code",
   "execution_count": 19,
   "metadata": {
    "colab": {
     "base_uri": "https://localhost:8080/"
    },
    "executionInfo": {
     "elapsed": 387,
     "status": "ok",
     "timestamp": 1739383118495,
     "user": {
      "displayName": "nimoy",
      "userId": "12145814232676261569"
     },
     "user_tz": -330
    },
    "id": "Wgpf07nZUA-t",
    "outputId": "9ae45e36-65d9-42d1-d049-9ad6b4814a20"
   },
   "outputs": [
    {
     "data": {
      "text/plain": [
       "95"
      ]
     },
     "execution_count": 19,
     "metadata": {},
     "output_type": "execute_result"
    }
   ],
   "source": [
    "len(train_image_loader)"
   ]
  },
  {
   "cell_type": "code",
   "execution_count": null,
   "metadata": {
    "colab": {
     "base_uri": "https://localhost:8080/"
    },
    "executionInfo": {
     "elapsed": 70231,
     "status": "ok",
     "timestamp": 1739383276808,
     "user": {
      "displayName": "nimoy",
      "userId": "12145814232676261569"
     },
     "user_tz": -330
    },
    "id": "dl2_FBvjSGUb",
    "outputId": "c6f2dcd6-8f1a-4c75-caff-ebde45942fbd"
   },
   "outputs": [
    {
     "name": "stdout",
     "output_type": "stream",
     "text": [
      "Epoch 1/40, Loss : 1.012879561123095\n",
      "Epoch 2/40, Loss : 0.5969778663233707\n",
      "Epoch 3/40, Loss : 0.506260904356053\n",
      "Epoch 4/40, Loss : 0.49382952247795303\n",
      "Epoch 5/40, Loss : 0.4504880448705272\n",
      "Epoch 6/40, Loss : 0.38598577317438626\n"
     ]
    }
   ],
   "source": [
    "# Training loop\n",
    "epochs = 40\n",
    "for epoch in range(epochs):\n",
    "  model.train()\n",
    "  running_loss = 0.0\n",
    "  for images, labels in train_image_loader:\n",
    "    images,labels = images.to(device), labels.to(device)\n",
    "    optimizer.zero_grad()\n",
    "    outputs = model(images)\n",
    "    # [x, 3, 128, 128]\n",
    "\n",
    "    loss = criterion(outputs, labels)\n",
    "    loss.backward()\n",
    "    optimizer.step()\n",
    "    running_loss+=loss.item()\n",
    "  print(f\"Epoch {epoch+1}/{epochs}, Loss : {running_loss/len(train_image_loader)}\")\n"
   ]
  },
  {
   "cell_type": "code",
   "execution_count": null,
   "metadata": {
    "executionInfo": {
     "elapsed": 370,
     "status": "ok",
     "timestamp": 1739383373756,
     "user": {
      "displayName": "nimoy",
      "userId": "12145814232676261569"
     },
     "user_tz": -330
    },
    "id": "mu8wV__TUFZ-"
   },
   "outputs": [],
   "source": [
    "torch.save(model.state_dict(), \"cnn_model.pth\")"
   ]
  },
  {
   "cell_type": "code",
   "execution_count": null,
   "metadata": {
    "colab": {
     "base_uri": "https://localhost:8080/"
    },
    "executionInfo": {
     "elapsed": 429,
     "status": "ok",
     "timestamp": 1739383593336,
     "user": {
      "displayName": "nimoy",
      "userId": "12145814232676261569"
     },
     "user_tz": -330
    },
    "id": "-nS8DAzxVvxk",
    "outputId": "c837a6e0-379a-4fb1-ec12-4a566dd61468"
   },
   "outputs": [
    {
     "name": "stdout",
     "output_type": "stream",
     "text": [
      "torch.Size([32])\n"
     ]
    }
   ],
   "source": [
    "for images, labels in test_image_loader:\n",
    "  print(labels.shape)\n",
    "  break"
   ]
  },
  {
   "cell_type": "code",
   "execution_count": null,
   "metadata": {
    "colab": {
     "base_uri": "https://localhost:8080/"
    },
    "executionInfo": {
     "elapsed": 1823,
     "status": "ok",
     "timestamp": 1739383677098,
     "user": {
      "displayName": "nimoy",
      "userId": "12145814232676261569"
     },
     "user_tz": -330
    },
    "id": "ACCaACCbU_a0",
    "outputId": "ae7216c1-ac15-4ac7-9115-dcd18b444783"
   },
   "outputs": [
    {
     "name": "stdout",
     "output_type": "stream",
     "text": [
      "Test accuracy is :74.50%\n"
     ]
    }
   ],
   "source": [
    "# Evaluate model\n",
    "\n",
    "model.eval()\n",
    "correct = 0\n",
    "total = 0\n",
    "\n",
    "with torch.no_grad():\n",
    "  for images, labels in test_image_loader:\n",
    "    images,labels = images.to(device), labels.to(device)\n",
    "    outputs = model(images)\n",
    "    _, predicted = torch.max(outputs, 1)\n",
    "    total += labels.size(0)\n",
    "    correct += (predicted == labels).sum().item()\n",
    "\n",
    "print(f\"Test accuracy is :{100* correct / total:.2f}%\")\n"
   ]
  },
  {
   "cell_type": "code",
   "execution_count": null,
   "metadata": {
    "executionInfo": {
     "elapsed": 1,
     "status": "ok",
     "timestamp": 1739384348509,
     "user": {
      "displayName": "nimoy",
      "userId": "12145814232676261569"
     },
     "user_tz": -330
    },
    "id": "NM9sIuaOYsli"
   },
   "outputs": [],
   "source": [
    "import cv2"
   ]
  },
  {
   "cell_type": "code",
   "execution_count": null,
   "metadata": {
    "executionInfo": {
     "elapsed": 717,
     "status": "ok",
     "timestamp": 1739384920931,
     "user": {
      "displayName": "nimoy",
      "userId": "12145814232676261569"
     },
     "user_tz": -330
    },
    "id": "ix6XWfdRWJci"
   },
   "outputs": [],
   "source": [
    "class ImageClassifier:\n",
    "  def __init__(self, model_path, class_names):\n",
    "    self.device = torch.device('cuda' if torch.cuda.is_available() else 'cpu')\n",
    "    self.model = CustomCnnModel(input_dim=128, num_classes=3).to(self.device)\n",
    "    self.model.load_state_dict(torch.load(model_path, map_location=self.device))\n",
    "    self.model.eval()\n",
    "    self.class_names = class_names\n",
    "    self.transform = transforms.Compose([\n",
    "      transforms.Resize((128,128)),\n",
    "      transforms.ToTensor(),\n",
    "      transforms.Normalize(mean=[0.5, 0.5, 0.5], std=[0.5, 0.5, 0.5])]\n",
    "    )\n",
    "\n",
    "  def predict(self, image_path):\n",
    "    image = Image.open(image_path).convert(\"RGB\")\n",
    "    input_tensor = self.transform(image).unsqueeze(0).to(self.device)\n",
    "    with torch.no_grad():\n",
    "      output = self.model(input_tensor)\n",
    "      _, predicted = torch.max(output, 1)\n",
    "    label = self.class_names[predicted.item()]\n",
    "\n",
    "    img = cv2.imread(image_path)\n",
    "    cv2.putText(img, label, (10, 30), cv2.FONT_HERSHEY_SIMPLEX, 1, (255, 0, 0), 2)\n",
    "    cv2.imwrite(\"output_image.jpg\",img)\n",
    "    return label\n",
    "\n"
   ]
  },
  {
   "cell_type": "code",
   "execution_count": null,
   "metadata": {
    "colab": {
     "base_uri": "https://localhost:8080/"
    },
    "executionInfo": {
     "elapsed": 712,
     "status": "ok",
     "timestamp": 1739384937538,
     "user": {
      "displayName": "nimoy",
      "userId": "12145814232676261569"
     },
     "user_tz": -330
    },
    "id": "K3gHbCQfZJfI",
    "outputId": "a19cd054-f037-4dcc-e528-4e5a971ab1f5"
   },
   "outputs": [
    {
     "name": "stdout",
     "output_type": "stream",
     "text": [
      "Predicted class is : Dog\n"
     ]
    },
    {
     "name": "stderr",
     "output_type": "stream",
     "text": [
      "<ipython-input-66-0994c84929d5>:5: FutureWarning: You are using `torch.load` with `weights_only=False` (the current default value), which uses the default pickle module implicitly. It is possible to construct malicious pickle data which will execute arbitrary code during unpickling (See https://github.com/pytorch/pytorch/blob/main/SECURITY.md#untrusted-models for more details). In a future release, the default value for `weights_only` will be flipped to `True`. This limits the functions that could be executed during unpickling. Arbitrary objects will no longer be allowed to be loaded via this mode unless they are explicitly allowlisted by the user via `torch.serialization.add_safe_globals`. We recommend you start setting `weights_only=True` for any use case where you don't have full control of the loaded file. Please open an issue on GitHub for any issues related to this experimental feature.\n",
      "  self.model.load_state_dict(torch.load(model_path, map_location=self.device))\n"
     ]
    }
   ],
   "source": [
    "classfier = ImageClassifier(\"/content/saved/cnn_model.pth\", train_image_dataset.class_name )\n",
    "label = classfier.predict(\"/content/Classification_dataset_v3/images/test/Dog/dog_1000.jpg\")\n",
    "print(f\"Predicted class is : {label}\")"
   ]
  },
  {
   "cell_type": "code",
   "execution_count": null,
   "metadata": {
    "id": "e8R-WJLoZp0R"
   },
   "outputs": [],
   "source": []
  }
 ],
 "metadata": {
  "accelerator": "GPU",
  "colab": {
   "authorship_tag": "ABX9TyNwIeQJN1PulwrekBy4eICW",
   "gpuType": "T4",
   "provenance": []
  },
  "kernelspec": {
   "display_name": "Python 3",
   "name": "python3"
  },
  "language_info": {
   "codemirror_mode": {
    "name": "ipython",
    "version": 3
   },
   "file_extension": ".py",
   "mimetype": "text/x-python",
   "name": "python",
   "nbconvert_exporter": "python",
   "pygments_lexer": "ipython3",
   "version": "3.13.5"
  }
 },
 "nbformat": 4,
 "nbformat_minor": 0
}
